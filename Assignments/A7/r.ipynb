{
 "cells": [
  {
   "cell_type": "code",
   "execution_count": null,
   "metadata": {},
   "outputs": [],
   "source": [
    "import numpy as np \n",
    "\n",
    "def get_r(K, L, alpha, Z, delta):\n",
    "    '''\n",
    "    This function generates the interest rate or vector of interest rates\n",
    "    '''\n",
    "    assert alpha > 0 and alpha < 1,\"failed on the range of capital share\"\n",
    "    assert delta > 0 and delta < 1,\"failed on the range of depreciation rate\"\n",
    "    r = alpha * Z * ( (L / K) ** (1 - alpha) ) - delta\n",
    "    \n",
    "    \n",
    "    return r"
   ]
  }
 ],
 "metadata": {
  "kernelspec": {
   "display_name": "Python 3",
   "language": "python",
   "name": "python3"
  },
  "language_info": {
   "codemirror_mode": {
    "name": "ipython",
    "version": 3
   },
   "file_extension": ".py",
   "mimetype": "text/x-python",
   "name": "python",
   "nbconvert_exporter": "python",
   "pygments_lexer": "ipython3",
   "version": "3.7.0"
  }
 },
 "nbformat": 4,
 "nbformat_minor": 2
}
