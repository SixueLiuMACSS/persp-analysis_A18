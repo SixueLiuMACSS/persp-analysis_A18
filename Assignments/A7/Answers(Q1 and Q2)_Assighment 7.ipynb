{
 "cells": [
  {
   "cell_type": "markdown",
   "metadata": {},
   "source": [
    "# Assignment 7"
   ]
  },
  {
   "cell_type": "markdown",
   "metadata": {},
   "source": [
    "### MACS 30000, Dr. Evans\n",
    "### Sixue Liu"
   ]
  },
  {
   "cell_type": "markdown",
   "metadata": {},
   "source": [
    "Due Monday, Nov. 26 at 11:30 AM"
   ]
  },
  {
   "cell_type": "markdown",
   "metadata": {},
   "source": [
    "### 1. Unit Testing in Python (3 points)."
   ]
  },
  {
   "cell_type": "markdown",
   "metadata": {},
   "source": [
    "#### Problem 1\n",
    "This is the original function: "
   ]
  },
  {
   "cell_type": "code",
   "execution_count": 7,
   "metadata": {},
   "outputs": [],
   "source": [
    "def smallest_factor(n):\n",
    "    '''Return the smallest prime factor of the positive integer n.'''\n",
    "    if n == 1: return 1\n",
    "    for i in range(2, int(n**.5)):\n",
    "        if n % i == 0: return i\n",
    "    return n"
   ]
  },
  {
   "cell_type": "markdown",
   "metadata": {},
   "source": [
    "This is the unit test I wrote for this function: "
   ]
  },
  {
   "cell_type": "code",
   "execution_count": null,
   "metadata": {},
   "outputs": [],
   "source": [
    "import pers\n",
    "\n",
    "def test_pers_prime():\n",
    "    assert pers.smallest_factor(7) == 7, \"failed on prime number\"\n",
    "\n",
    "def test_pers_even():\n",
    "    assert pers.smallest_factor(8) == 2, \"failed on even number\"\n",
    "\n",
    "def test_pers_odd():\n",
    "    assert pers.smallest_factor(9) == 3, \"failed on odd number\""
   ]
  },
  {
   "cell_type": "markdown",
   "metadata": {},
   "source": [
    "This is the result I got after running py.test:\n",
    "![title](p1.PNG)"
   ]
  },
  {
   "cell_type": "code",
   "execution_count": null,
   "metadata": {},
   "outputs": [],
   "source": [
    "#This is the function after correcting:\n",
    "def smallest_factor(n):\n",
    "\"\"\"Return the smallest prime factor of the positive integer n.\"\"\"\n",
    "    if n == 1: return 1\n",
    "    for i in range(2, int(n**.5) + 1):\n",
    "        if n % i == 0: return i\n",
    "    return n"
   ]
  },
  {
   "cell_type": "markdown",
   "metadata": {},
   "source": [
    "This is the new result I got after running the py.test:\n",
    "![title](p2.PNG)"
   ]
  },
  {
   "cell_type": "markdown",
   "metadata": {},
   "source": [
    "Answer description:\n",
    "The reason why the original function cannot pass the test is 'range' in Python only includes the lower bound. In this case, 'i' needs to iterate from the lower bound to the upper bound, inclusively. The original function doesn't include the upper bound. Therefore, the way to fix this is to add 1 to the upper bound, now 'i' could also iterate the upper bound. "
   ]
  },
  {
   "cell_type": "markdown",
   "metadata": {},
   "source": [
    "#### Problem 2 \n",
    "This is the result coverage of problem 1:\n",
    "![title](p3.PNG)"
   ]
  },
  {
   "cell_type": "code",
   "execution_count": 1,
   "metadata": {},
   "outputs": [],
   "source": [
    "#This is the function of problem 2\n",
    "def month_length(month, leap_year=False):\n",
    "    \"\"\"Return the number of days in the given month.\"\"\"\n",
    "    if month in {\"September\", \"April\", \"June\", \"November\"}:\n",
    "        return 30\n",
    "    elif month in {\"January\", \"March\", \"May\", \"July\",\n",
    "                        \"August\", \"October\", \"December\"}:\n",
    "        return 31\n",
    "    if month == \"February\":\n",
    "        if not leap_year:\n",
    "            return 28\n",
    "        else:\n",
    "            return 29\n",
    "    else:\n",
    "        return None"
   ]
  },
  {
   "cell_type": "code",
   "execution_count": null,
   "metadata": {},
   "outputs": [],
   "source": [
    "#This is the test function I wrote for problem 2\n",
    "import p2\n",
    "\n",
    "def test_p2_month():\n",
    "    assert p2.month_length('January') == 31, \"failed on January\"\n",
    "    assert p2.month_length('April') == 30, \"failed on April\"\n",
    "    assert p2.month_length('February', leap_year=True) == 29, \"failed on February_leap_year\"\n",
    "    assert p2.month_length('February', leap_year=False) == 28, \"failed on February_not_leap_year\"\n",
    "    assert p2.month_length('Other') == None, \"failed on other_cases\""
   ]
  },
  {
   "cell_type": "markdown",
   "metadata": {},
   "source": [
    "This is the result after running py.test and py.test --cov:\n",
    "![title](p10.PNG)"
   ]
  },
  {
   "cell_type": "markdown",
   "metadata": {},
   "source": [
    "Answer Description: \n",
    "The code in problem 2 has several different cases. Generally, we need to consider the months with 30 days and others with 31 days. Also, February is a special case. The length of February depends on whether it is the leap year or not. Therefore, I need to design the test code for both cases. Also, if the input is other word, we need to test if the result is None.  "
   ]
  },
  {
   "cell_type": "markdown",
   "metadata": {},
   "source": [
    "#### Problem 3"
   ]
  },
  {
   "cell_type": "code",
   "execution_count": null,
   "metadata": {},
   "outputs": [],
   "source": [
    "#This is the function from problem 3\n",
    "def operate(a, b, oper):\n",
    "    \"\"\"Apply an arithmetic operation to a and b.\"\"\"\n",
    "    if type(oper) is not str:\n",
    "        raise TypeError(\"oper must be a string\")\n",
    "    elif oper == '+':\n",
    "        return a + b\n",
    "    elif oper == '-':\n",
    "        return a - b\n",
    "    elif oper == '*':\n",
    "        return a * b\n",
    "    elif oper == '/':\n",
    "        if b == 0:\n",
    "            raise ZeroDivisionError(\"division by zero is undefined\")\n",
    "        return a / b\n",
    "    raise ValueError(\"oper must be one of '+', '/', '-', or '*'\")"
   ]
  },
  {
   "cell_type": "code",
   "execution_count": null,
   "metadata": {},
   "outputs": [],
   "source": [
    "#This is the unit test I wrote for problem 3\n",
    "import pytest\n",
    "import p3\n",
    "\n",
    "def test_p3():\n",
    "    assert p3.operate(4, 2, '+') == 6, \"failed on addition\"\n",
    "    assert p3.operate(2, 4, '-') == -2, \"failed on subtraction\"\n",
    "    assert p3.operate(4, 2, '*') == 8, \"failed on multiplication\"\n",
    "    assert p3.operate(9, 3, '/') == 3, \"failed on division\"\n",
    "    with pytest.raises(TypeError) as excinfo1:\n",
    "        p3.operate(4, 0, 8)\n",
    "    assert excinfo1.value.args[0] == \"oper must be a string\"\n",
    "    with pytest.raises(ZeroDivisionError) as excinfo2:\n",
    "        p3.operate(4, 0, '/')\n",
    "    assert excinfo2.value.args[0] == \"division by zero is undefined\"\n",
    "    with pytest.raises(ValueError) as excinfo3:\n",
    "        p3.operate(4, 0, '&')\n",
    "    assert excinfo3.value.args[0] == \"oper must be one of '+', '/', '-', or '*'\""
   ]
  },
  {
   "cell_type": "markdown",
   "metadata": {},
   "source": [
    "This is the result after running py.test:\n",
    "![title](p4.PNG)"
   ]
  },
  {
   "cell_type": "markdown",
   "metadata": {},
   "source": [
    "This is the result after running py.test --cov:\n",
    "![title](p5.PNG)"
   ]
  },
  {
   "cell_type": "markdown",
   "metadata": {},
   "source": [
    "This is the result using cov-report tool to confirm that I have full coverage of this function:\n",
    "![title](p6.PNG)"
   ]
  },
  {
   "cell_type": "markdown",
   "metadata": {},
   "source": [
    "![title](p7.PNG)"
   ]
  },
  {
   "cell_type": "markdown",
   "metadata": {},
   "source": [
    "Answer Description:\n",
    "In the operate function, it raises three different errors: TypeError, ZeroDivisionError and ValueError. Therefore, not only do we need to consider four common situations like addition, subtraction, multiplication and division, but we should include the situations raising these three errors. In raising three errors, the error message should be the same with the original function."
   ]
  },
  {
   "cell_type": "markdown",
   "metadata": {},
   "source": [
    "### 2. Test driven development (3 points). "
   ]
  },
  {
   "cell_type": "code",
   "execution_count": 2,
   "metadata": {},
   "outputs": [],
   "source": [
    "#This is the Python module:\n",
    "import numpy as np \n",
    "\n",
    "def get_r(K, L, alpha, Z, delta):\n",
    "    '''\n",
    "    This function generates the interest rate or vector of interest rates\n",
    "    '''\n",
    "    assert alpha > 0 and alpha < 1,\"failed on the range of capital share\"\n",
    "    assert delta >= 0 and delta < 1,\"failed on the range of depreciation rate\"\n",
    "    assert Z > 0,\"failed on the range of total factor productivity\"\n",
    "\n",
    "    r = alpha * Z * ( (L / K) ** (1 - alpha) ) - delta\n",
    "\n",
    "    if (type(K) == float) and (type(L)== float):\n",
    "        assert type(r)==float, \"failed on 'if K and L are both scalars,this function should return a scalar interest rate'\"\n",
    "\n",
    "    if not np.isscalar(K) and not np.isscalar(L):\n",
    "        assert not np.isscalar(r), \"failed on 'if K and L are both vectors, this function should return a corresponding vector of interest rates'\"\n",
    "    \n",
    "    return r"
   ]
  },
  {
   "cell_type": "markdown",
   "metadata": {},
   "source": [
    "This is the result after running py.test:\n",
    "![title](p8.PNG)"
   ]
  },
  {
   "cell_type": "markdown",
   "metadata": {},
   "source": [
    "This is the result after running py.test --cov:\n",
    "![title](p9.PNG)"
   ]
  },
  {
   "cell_type": "markdown",
   "metadata": {},
   "source": [
    "As we can see, the function I wrote passes all the tests and get fully covered. "
   ]
  }
 ],
 "metadata": {
  "kernelspec": {
   "display_name": "Python 3",
   "language": "python",
   "name": "python3"
  },
  "language_info": {
   "codemirror_mode": {
    "name": "ipython",
    "version": 3
   },
   "file_extension": ".py",
   "mimetype": "text/x-python",
   "name": "python",
   "nbconvert_exporter": "python",
   "pygments_lexer": "ipython3",
   "version": "3.7.0"
  }
 },
 "nbformat": 4,
 "nbformat_minor": 2
}
