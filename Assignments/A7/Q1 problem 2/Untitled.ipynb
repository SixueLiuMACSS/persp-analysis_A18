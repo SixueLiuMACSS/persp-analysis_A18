{
 "cells": [
  {
   "cell_type": "code",
   "execution_count": null,
   "metadata": {},
   "outputs": [],
   "source": [
    "#This is the function of problem 2\n",
    "def month_length(month, leap_year=False):\n",
    "    \"\"\"Return the number of days in the given month.\"\"\"\n",
    "    if month in {\"September\", \"April\", \"June\", \"November\"}:\n",
    "        return 30\n",
    "    elif month in {\"January\", \"March\", \"May\", \"July\",\n",
    "                        \"August\", \"October\", \"December\"}:\n",
    "        return 31\n",
    "    if month == \"February\":\n",
    "        if not leap_year:\n",
    "            return 28\n",
    "        else:\n",
    "            return 29\n",
    "    else:\n",
    "        return None"
   ]
  }
 ],
 "metadata": {
  "kernelspec": {
   "display_name": "Python 3",
   "language": "python",
   "name": "python3"
  },
  "language_info": {
   "codemirror_mode": {
    "name": "ipython",
    "version": 3
   },
   "file_extension": ".py",
   "mimetype": "text/x-python",
   "name": "python",
   "nbconvert_exporter": "python",
   "pygments_lexer": "ipython3",
   "version": "3.7.0"
  }
 },
 "nbformat": 4,
 "nbformat_minor": 2
}
