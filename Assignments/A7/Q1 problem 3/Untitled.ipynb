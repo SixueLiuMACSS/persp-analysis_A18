{
 "cells": [
  {
   "cell_type": "code",
   "execution_count": null,
   "metadata": {},
   "outputs": [],
   "source": [
    "def operate(a, b, oper):\n",
    "    \"\"\"Apply an arithmetic operation to a and b.\"\"\"\n",
    "    if type(oper) is not str:\n",
    "        raise TypeError(\"oper must be a string\")\n",
    "    elif oper == '+':\n",
    "        return a + b\n",
    "    elif oper == '-':\n",
    "        return a - b\n",
    "    elif oper == '*':\n",
    "        return a * b\n",
    "    elif oper == '/':\n",
    "        if b == 0:\n",
    "            raise ZeroDivisionError(\"division by zero is undefined\")\n",
    "        return a / b\n",
    "    raise ValueError(\"oper must be one of '+', '/', '-', or '*'\")"
   ]
  }
 ],
 "metadata": {
  "kernelspec": {
   "display_name": "Python 3",
   "language": "python",
   "name": "python3"
  },
  "language_info": {
   "codemirror_mode": {
    "name": "ipython",
    "version": 3
   },
   "file_extension": ".py",
   "mimetype": "text/x-python",
   "name": "python",
   "nbconvert_exporter": "python",
   "pygments_lexer": "ipython3",
   "version": "3.7.0"
  }
 },
 "nbformat": 4,
 "nbformat_minor": 2
}
